{
 "cells": [
  {
   "cell_type": "markdown",
   "metadata": {},
   "source": [
    "## 0. PyTorch Fundamentals\n",
    "\n",
    "Resources covered: https:#www.learnpytorch.io/00_pytorch_fundamentals/"
   ]
  },
  {
   "cell_type": "code",
   "execution_count": null,
   "metadata": {},
   "outputs": [],
   "source": [
    "# Check GPU usage\n",
    "!nvidia-smi"
   ]
  },
  {
   "cell_type": "code",
   "execution_count": null,
   "metadata": {},
   "outputs": [],
   "source": [
    "import torch\n",
    "import pandas as pd\n",
    "import matplotlib.pyplot as plt\n",
    "import numpy as np\n",
    "\n",
    "print(torch.__version__)"
   ]
  },
  {
   "cell_type": "markdown",
   "metadata": {},
   "source": [
    "## Introduction to Tensors\n",
    "### Creating tensors\n",
    "PyTorch tensors are created `torch.tensor()`. Tensors are just blocks of numerical data which represents input data.\n",
    "\n"
   ]
  },
  {
   "cell_type": "code",
   "execution_count": null,
   "metadata": {},
   "outputs": [],
   "source": [
    "'''\n",
    "# Scalars\n",
    "scalar = torch.tensor(7)\n",
    "\n",
    "# A tensor has no dimensions\n",
    "scalar.ndim   # Returns 0\n",
    "\n",
    "# Get a tensor back as Python int\n",
    "scalar.item()\n",
    "'''"
   ]
  },
  {
   "cell_type": "code",
   "execution_count": null,
   "metadata": {},
   "outputs": [],
   "source": [
    "'''\n",
    "# Vectors\n",
    "vector = torch.tensor([7,7])\n",
    "\n",
    "# Getting the dimensions of a vector\n",
    "vector = vector.ndim # Returns 1\n",
    "\n",
    "# Shape of a vector\n",
    "vector = vector.shape # Returns 2\n",
    "'''"
   ]
  },
  {
   "cell_type": "code",
   "execution_count": null,
   "metadata": {},
   "outputs": [],
   "source": [
    "'''\n",
    "# Matrix\n",
    "MATRIX = torch.tensor([1,2],[3,4])\n",
    "\n",
    "# Getting the dimensions of a matrix\n",
    "MATRIX.ndim # Returns 2\n",
    "\n",
    "# Shape of a matrix\n",
    "MATRIX.shape # Returns 2x2\n",
    "'''"
   ]
  },
  {
   "cell_type": "code",
   "execution_count": null,
   "metadata": {},
   "outputs": [],
   "source": [
    "'''\n",
    "# Tensors\n",
    "TENSOR = torch.tensor([[[1,2,3],[3,4,5],[4,5,6]]])\n",
    "\n",
    "# Getting the dimensions of a tensor\n",
    "TENSOR.ndim # Returns 3\n",
    "\n",
    "# Shape of a tensor\n",
    "TENSOR.shape # Returns 1x3x3\n",
    "'''"
   ]
  },
  {
   "cell_type": "markdown",
   "metadata": {},
   "source": [
    "### Random Tensors\n",
    "\n",
    "Neural networks create initially randomized input tensors and update them using backpropagation.\n"
   ]
  },
  {
   "cell_type": "code",
   "execution_count": null,
   "metadata": {},
   "outputs": [],
   "source": [
    "'''\n",
    "# Create a random tensors.\n",
    "random_tensor = torch.rand(5,5)\n",
    "\n",
    "# A typical tensor of an image input\n",
    "image_tensor = torch.rand(size=(10,10,3)) # Usually represents the height, width and colour channels (i.e. RGB)\n",
    "\n",
    "# A zero tensor\n",
    "zero_tensor = torch.zero(3,3)\n",
    "\n",
    "# A one tensor\n",
    "ones_tensor = torch.ones(3,3)\n",
    "'''"
   ]
  },
  {
   "cell_type": "markdown",
   "metadata": {},
   "source": [
    "### Creating a range of tensors and tensors-like"
   ]
  },
  {
   "cell_type": "code",
   "execution_count": null,
   "metadata": {},
   "outputs": [],
   "source": [
    "'''\n",
    "# An array of ints from 1 to 10 with step 2\n",
    "array_of_ints = torch.arange(start=1, end=10, step=2)\n",
    "\n",
    "# Tensor-like (shape of a tensor of a certain type)\n",
    "tensor_like = tensor.rand_like(3,3, dtype=torch.float32)\n",
    "'''"
   ]
  },
  {
   "cell_type": "markdown",
   "metadata": {},
   "source": [
    "### Tensor attributes"
   ]
  },
  {
   "cell_type": "code",
   "execution_count": null,
   "metadata": {},
   "outputs": [],
   "source": [
    "'''\n",
    "# A tensor takes parameters such as\n",
    "tensor = torch.tensor([3.0, 6.0, 9.0], dtype=torch.float32, device=\"cuda\", require_grad=False)\n",
    "\n",
    "# Tensor datatypes is one of the 3 big errors with PyTorch & Deep learning\n",
    "# 1. Tensors not in right datatype # Datatypes (e.g. float16 and float32)\n",
    "# 2. Tensors not in right shape\n",
    "# 3. Tensors not on the right device (tensors are on different machines e.g. one is on cpu, the other is on gpu)\n",
    "\n",
    "# tensor.shape and tensor.size() are the same\n",
    "'''"
   ]
  },
  {
   "cell_type": "markdown",
   "metadata": {},
   "source": [
    "### Tensor basic operations"
   ]
  },
  {
   "cell_type": "code",
   "execution_count": null,
   "metadata": {},
   "outputs": [],
   "source": [
    "'''\n",
    "# Addition\n",
    "ans = tensor_1 + tensor_2\n",
    "ans = torch.add(tensor_1, tensor_2)\n",
    "\n",
    "# Subtraction\n",
    "ans = tensor_1 - tensor_2\n",
    "ans = torch.sub(tensor_1, tensor_2)\n",
    "\n",
    "# Multiplication (Element-wise)\n",
    "ans = tensor_1 * tensor_2\n",
    "ans = torch.mul(tensor_1, tensor_2)\n",
    "\n",
    "# Multiplication (Matrix-wise)\n",
    "ans = tensor_1 @ tensor_2\n",
    "ans = torch.matmul(tensor_1, tensor_2)\n",
    "\n",
    "# Transpose of a matrix\n",
    "ans = tensor_1.T\n",
    "ans = torch.transpose(tensor_1, 0, 1)\n",
    "'''"
   ]
  },
  {
   "cell_type": "markdown",
   "metadata": {},
   "source": [
    "### Tensor Aggregation"
   ]
  },
  {
   "cell_type": "code",
   "execution_count": null,
   "metadata": {},
   "outputs": [],
   "source": [
    "'''\n",
    "# Max of tensor\n",
    "torch.max(tensor)\n",
    "tensor.max()\n",
    "\n",
    "# Min of tensor\n",
    "torch.min(tensor)\n",
    "tensor.min()\n",
    "\n",
    "# Mean of tensor (Only works with float and complex types, use tensor.type() to convert to these types)\n",
    "torch.mean(tensor)\n",
    "tensor.mean()\n",
    "\n",
    "# Sum of tensor\n",
    "torch.sum(tensor)\n",
    "tensor.sum()\n",
    "\n",
    "# Index for max/min\n",
    "tensor.argmax()\n",
    "tensor.argmin()\n",
    "'''"
   ]
  },
  {
   "cell_type": "markdown",
   "metadata": {},
   "source": [
    "### Reshaping, Stacking and Squeezing"
   ]
  },
  {
   "cell_type": "code",
   "execution_count": null,
   "metadata": {},
   "outputs": [],
   "source": [
    "'''\n",
    "# Reshape returns a view of the tensor if compatible, otherwise copy\n",
    "tensor = torch.arange(1, 13) # Creates a 1x12 tensor\n",
    "tensor_reshaped = tensor.reshape(3, 4) # Reshape into a 3x4 tensor (Could be a copy or view)\n",
    "tensor_reshaped[0][1] = 69 # May change the second element depending on tensor continguity\n",
    "\n",
    "# View returns a tensor using the same memory in a different shape (Reference)\n",
    "tensor = torch.arange(1, 13)\n",
    "tensor_view = tensor.view(3, 4) # Creates a reference to tensor\n",
    "tensor_view[0][1] = 69 # Definitely changes the second element\n",
    "\n",
    "# Stack concatanates two tensors in a dimension\n",
    "tensor = torch.arange(1, 13)\n",
    "tensor2 = torch.arange(1, 8, 2)\n",
    "torch.stack([tensor, tensor2], dim=0)\n",
    "\n",
    "# Squeeze removes one dimension on a tensor\n",
    "tensor = torch.tensor([[1,2,3,4]]) # tensor has a shape (1, 4)\n",
    "torch.squeeze(tensor) # Returns tensor([1,2,3,4])\n",
    "\n",
    "# Unsqueezing adds one dimension instead\n",
    "tensor = torch.tensor([1,2,3,4]) # tensor has a shape (1, 4)\n",
    "torch.unsqueeze(tensor) # Returns tensor([[1,2,3,4]])\n",
    "\n",
    "# Permute returns the tensor in a different shape\n",
    "tensor = torch.rand(3, 6, 9)\n",
    "tensor = tensor.permute(1, 2, 0) # tensor becomes torch.rand(9, 3, 6)\n",
    "'''"
   ]
  },
  {
   "cell_type": "markdown",
   "metadata": {},
   "source": [
    "### PyTorch tensors to NumPy ndarrays"
   ]
  },
  {
   "cell_type": "code",
   "execution_count": null,
   "metadata": {},
   "outputs": [],
   "source": [
    "'''\n",
    "# To convert a tensor to a ndarray\n",
    "torch.Tensor.numpy(tensor) # dtype of ndarray is float32\n",
    "\n",
    "# To convert a ndarray to a tensor\n",
    "torch.from_numpy(numpy_array) # dtype of tensor is float64\n",
    "'''"
   ]
  },
  {
   "cell_type": "markdown",
   "metadata": {},
   "source": [
    "### Reproducibility"
   ]
  },
  {
   "cell_type": "code",
   "execution_count": null,
   "metadata": {},
   "outputs": [],
   "source": [
    "'''\n",
    "# Use a random seed to limit randomness\n",
    "import random\n",
    "\n",
    "RANDOM_SEED = 69\n",
    "torch.manual_seed(RANDOM_SEED)\n",
    "rand1 = torch.rand(3, 3)\n",
    "\n",
    "# Manually configure the seed after every rand() is called\n",
    "torch.random.manual_seed(RANDOM_SEED)\n",
    "rand2 = torch.rand(3, 3)\n",
    "\n",
    "print(rand1 == rand2) # Returns True\n",
    "'''"
   ]
  },
  {
   "cell_type": "markdown",
   "metadata": {},
   "source": [
    "### Running tensors on GPUs"
   ]
  },
  {
   "cell_type": "code",
   "execution_count": null,
   "metadata": {},
   "outputs": [],
   "source": [
    "'''\n",
    "# It's a good practice to write device agnostic code\n",
    "device = \"cuda\" if torch.cuda.is_available() else \"cpu\"\n",
    "\n",
    "# Apply device to a tensor\n",
    "tensor = tensor.to(device)\n",
    "\n",
    "# NumPy does not work on GPUs, change tensors to work on CPUs before passing to NumPy\n",
    "tensor_to_numpy = tensor.cpu().numpy()\n",
    "'''"
   ]
  }
 ],
 "metadata": {
  "language_info": {
   "name": "python"
  },
  "orig_nbformat": 4
 },
 "nbformat": 4,
 "nbformat_minor": 2
}
